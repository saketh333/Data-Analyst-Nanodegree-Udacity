{
 "cells": [
  {
   "cell_type": "markdown",
   "metadata": {
    "collapsed": true
   },
   "source": [
    "In this project I will be using Data Analysis techniques to gain insight into __Titanic Dataset__ and Answer some interesting findings."
   ]
  },
  {
   "cell_type": "markdown",
   "metadata": {},
   "source": [
    "To Perform the Analysis I will be using Python version 3\n",
    " \n",
    "Along with Packages\n",
    "Numpy\n",
    "Pandas\n",
    "Matplotlib\n",
    "Seaborn"
   ]
  },
  {
   "cell_type": "code",
   "execution_count": 1,
   "metadata": {
    "collapsed": true
   },
   "outputs": [],
   "source": [
    "# This command is used to import the required packages\n",
    "\n",
    "import pandas as pd\n",
    "import numpy as np\n",
    "import matplotlib as plt\n",
    "import seaborn as sns"
   ]
  },
  {
   "cell_type": "markdown",
   "metadata": {},
   "source": [
    ">Now Lets import the dataset using pandas"
   ]
  },
  {
   "cell_type": "code",
   "execution_count": 2,
   "metadata": {
    "collapsed": true
   },
   "outputs": [],
   "source": [
    "titanic = pd.read_csv(\"titanicdata.csv\") #This pandas fuction lets us import a data set"
   ]
  },
  {
   "cell_type": "markdown",
   "metadata": {},
   "source": [
    ">We can take a look at the data set using head() function in python"
   ]
  },
  {
   "cell_type": "code",
   "execution_count": 3,
   "metadata": {},
   "outputs": [
    {
     "data": {
      "text/html": [
       "<div>\n",
       "<style>\n",
       "    .dataframe thead tr:only-child th {\n",
       "        text-align: right;\n",
       "    }\n",
       "\n",
       "    .dataframe thead th {\n",
       "        text-align: left;\n",
       "    }\n",
       "\n",
       "    .dataframe tbody tr th {\n",
       "        vertical-align: top;\n",
       "    }\n",
       "</style>\n",
       "<table border=\"1\" class=\"dataframe\">\n",
       "  <thead>\n",
       "    <tr style=\"text-align: right;\">\n",
       "      <th></th>\n",
       "      <th>PassengerId</th>\n",
       "      <th>Survived</th>\n",
       "      <th>Pclass</th>\n",
       "      <th>Name</th>\n",
       "      <th>Sex</th>\n",
       "      <th>Age</th>\n",
       "      <th>SibSp</th>\n",
       "      <th>Parch</th>\n",
       "      <th>Ticket</th>\n",
       "      <th>Fare</th>\n",
       "      <th>Cabin</th>\n",
       "      <th>Embarked</th>\n",
       "    </tr>\n",
       "  </thead>\n",
       "  <tbody>\n",
       "    <tr>\n",
       "      <th>0</th>\n",
       "      <td>1</td>\n",
       "      <td>0</td>\n",
       "      <td>3</td>\n",
       "      <td>Braund, Mr. Owen Harris</td>\n",
       "      <td>male</td>\n",
       "      <td>22.0</td>\n",
       "      <td>1</td>\n",
       "      <td>0</td>\n",
       "      <td>A/5 21171</td>\n",
       "      <td>7.2500</td>\n",
       "      <td>NaN</td>\n",
       "      <td>S</td>\n",
       "    </tr>\n",
       "    <tr>\n",
       "      <th>1</th>\n",
       "      <td>2</td>\n",
       "      <td>1</td>\n",
       "      <td>1</td>\n",
       "      <td>Cumings, Mrs. John Bradley (Florence Briggs Th...</td>\n",
       "      <td>female</td>\n",
       "      <td>38.0</td>\n",
       "      <td>1</td>\n",
       "      <td>0</td>\n",
       "      <td>PC 17599</td>\n",
       "      <td>71.2833</td>\n",
       "      <td>C85</td>\n",
       "      <td>C</td>\n",
       "    </tr>\n",
       "    <tr>\n",
       "      <th>2</th>\n",
       "      <td>3</td>\n",
       "      <td>1</td>\n",
       "      <td>3</td>\n",
       "      <td>Heikkinen, Miss. Laina</td>\n",
       "      <td>female</td>\n",
       "      <td>26.0</td>\n",
       "      <td>0</td>\n",
       "      <td>0</td>\n",
       "      <td>STON/O2. 3101282</td>\n",
       "      <td>7.9250</td>\n",
       "      <td>NaN</td>\n",
       "      <td>S</td>\n",
       "    </tr>\n",
       "    <tr>\n",
       "      <th>3</th>\n",
       "      <td>4</td>\n",
       "      <td>1</td>\n",
       "      <td>1</td>\n",
       "      <td>Futrelle, Mrs. Jacques Heath (Lily May Peel)</td>\n",
       "      <td>female</td>\n",
       "      <td>35.0</td>\n",
       "      <td>1</td>\n",
       "      <td>0</td>\n",
       "      <td>113803</td>\n",
       "      <td>53.1000</td>\n",
       "      <td>C123</td>\n",
       "      <td>S</td>\n",
       "    </tr>\n",
       "    <tr>\n",
       "      <th>4</th>\n",
       "      <td>5</td>\n",
       "      <td>0</td>\n",
       "      <td>3</td>\n",
       "      <td>Allen, Mr. William Henry</td>\n",
       "      <td>male</td>\n",
       "      <td>35.0</td>\n",
       "      <td>0</td>\n",
       "      <td>0</td>\n",
       "      <td>373450</td>\n",
       "      <td>8.0500</td>\n",
       "      <td>NaN</td>\n",
       "      <td>S</td>\n",
       "    </tr>\n",
       "    <tr>\n",
       "      <th>5</th>\n",
       "      <td>6</td>\n",
       "      <td>0</td>\n",
       "      <td>3</td>\n",
       "      <td>Moran, Mr. James</td>\n",
       "      <td>male</td>\n",
       "      <td>NaN</td>\n",
       "      <td>0</td>\n",
       "      <td>0</td>\n",
       "      <td>330877</td>\n",
       "      <td>8.4583</td>\n",
       "      <td>NaN</td>\n",
       "      <td>Q</td>\n",
       "    </tr>\n",
       "    <tr>\n",
       "      <th>6</th>\n",
       "      <td>7</td>\n",
       "      <td>0</td>\n",
       "      <td>1</td>\n",
       "      <td>McCarthy, Mr. Timothy J</td>\n",
       "      <td>male</td>\n",
       "      <td>54.0</td>\n",
       "      <td>0</td>\n",
       "      <td>0</td>\n",
       "      <td>17463</td>\n",
       "      <td>51.8625</td>\n",
       "      <td>E46</td>\n",
       "      <td>S</td>\n",
       "    </tr>\n",
       "    <tr>\n",
       "      <th>7</th>\n",
       "      <td>8</td>\n",
       "      <td>0</td>\n",
       "      <td>3</td>\n",
       "      <td>Palsson, Master. Gosta Leonard</td>\n",
       "      <td>male</td>\n",
       "      <td>2.0</td>\n",
       "      <td>3</td>\n",
       "      <td>1</td>\n",
       "      <td>349909</td>\n",
       "      <td>21.0750</td>\n",
       "      <td>NaN</td>\n",
       "      <td>S</td>\n",
       "    </tr>\n",
       "    <tr>\n",
       "      <th>8</th>\n",
       "      <td>9</td>\n",
       "      <td>1</td>\n",
       "      <td>3</td>\n",
       "      <td>Johnson, Mrs. Oscar W (Elisabeth Vilhelmina Berg)</td>\n",
       "      <td>female</td>\n",
       "      <td>27.0</td>\n",
       "      <td>0</td>\n",
       "      <td>2</td>\n",
       "      <td>347742</td>\n",
       "      <td>11.1333</td>\n",
       "      <td>NaN</td>\n",
       "      <td>S</td>\n",
       "    </tr>\n",
       "    <tr>\n",
       "      <th>9</th>\n",
       "      <td>10</td>\n",
       "      <td>1</td>\n",
       "      <td>2</td>\n",
       "      <td>Nasser, Mrs. Nicholas (Adele Achem)</td>\n",
       "      <td>female</td>\n",
       "      <td>14.0</td>\n",
       "      <td>1</td>\n",
       "      <td>0</td>\n",
       "      <td>237736</td>\n",
       "      <td>30.0708</td>\n",
       "      <td>NaN</td>\n",
       "      <td>C</td>\n",
       "    </tr>\n",
       "  </tbody>\n",
       "</table>\n",
       "</div>"
      ],
      "text/plain": [
       "   PassengerId  Survived  Pclass  \\\n",
       "0            1         0       3   \n",
       "1            2         1       1   \n",
       "2            3         1       3   \n",
       "3            4         1       1   \n",
       "4            5         0       3   \n",
       "5            6         0       3   \n",
       "6            7         0       1   \n",
       "7            8         0       3   \n",
       "8            9         1       3   \n",
       "9           10         1       2   \n",
       "\n",
       "                                                Name     Sex   Age  SibSp  \\\n",
       "0                            Braund, Mr. Owen Harris    male  22.0      1   \n",
       "1  Cumings, Mrs. John Bradley (Florence Briggs Th...  female  38.0      1   \n",
       "2                             Heikkinen, Miss. Laina  female  26.0      0   \n",
       "3       Futrelle, Mrs. Jacques Heath (Lily May Peel)  female  35.0      1   \n",
       "4                           Allen, Mr. William Henry    male  35.0      0   \n",
       "5                                   Moran, Mr. James    male   NaN      0   \n",
       "6                            McCarthy, Mr. Timothy J    male  54.0      0   \n",
       "7                     Palsson, Master. Gosta Leonard    male   2.0      3   \n",
       "8  Johnson, Mrs. Oscar W (Elisabeth Vilhelmina Berg)  female  27.0      0   \n",
       "9                Nasser, Mrs. Nicholas (Adele Achem)  female  14.0      1   \n",
       "\n",
       "   Parch            Ticket     Fare Cabin Embarked  \n",
       "0      0         A/5 21171   7.2500   NaN        S  \n",
       "1      0          PC 17599  71.2833   C85        C  \n",
       "2      0  STON/O2. 3101282   7.9250   NaN        S  \n",
       "3      0            113803  53.1000  C123        S  \n",
       "4      0            373450   8.0500   NaN        S  \n",
       "5      0            330877   8.4583   NaN        Q  \n",
       "6      0             17463  51.8625   E46        S  \n",
       "7      1            349909  21.0750   NaN        S  \n",
       "8      2            347742  11.1333   NaN        S  \n",
       "9      0            237736  30.0708   NaN        C  "
      ]
     },
     "execution_count": 3,
     "metadata": {},
     "output_type": "execute_result"
    }
   ],
   "source": [
    "titanic.head(10) # This shows the first 5 columns of the data set"
   ]
  },
  {
   "cell_type": "code",
   "execution_count": 4,
   "metadata": {},
   "outputs": [
    {
     "name": "stdout",
     "output_type": "stream",
     "text": [
      "Populating the interactive namespace from numpy and matplotlib\n"
     ]
    },
    {
     "name": "stderr",
     "output_type": "stream",
     "text": [
      "C:\\Users\\Saketh\\Anaconda3\\lib\\site-packages\\IPython\\core\\magics\\pylab.py:161: UserWarning: pylab import has clobbered these variables: ['plt']\n",
      "`%matplotlib` prevents importing * from pylab and numpy\n",
      "  \"\\n`%matplotlib` prevents importing * from pylab and numpy\"\n"
     ]
    },
    {
     "data": {
      "text/plain": [
       "<seaborn.axisgrid.PairGrid at 0x1acd48d97b8>"
      ]
     },
     "execution_count": 4,
     "metadata": {},
     "output_type": "execute_result"
    },
    {
     "data": {
      "image/png": "[encoded data removed]",
      "text/plain": [
       "<matplotlib.figure.Figure at 0x1acd58ef080>"
      ]
     },
     "metadata": {},
     "output_type": "display_data"
    }
   ],
   "source": [
    "# using this command to display graph in notebook.\n",
    "%pylab inline\n",
    "\n",
    "# here some of the values in age column are missing so I am replacing those values with mean value Age.\n",
    "\n",
    "# storing the data set with modified values in a differect variable so that we can perform other operations on missing values from Age column \n",
    "modified_titanic = pd.read_csv(\"titanicdata.csv\") \n",
    "modified_titanic.loc[modified_titanic['Age'].isnull(),'Age'] = modified_titanic['Age'].mean()\n",
    "\n",
    "# And I also see that lots of values for cabin numbers are missing but they are not of much significance so, \n",
    "# will not be using data from Cabin column. \n",
    "\n",
    "# using pairplot fuction from Seaborn package to see relationship between variables of our data set. \n",
    "sns.pairplot(data=modified_titanic[[\"Fare\",\"Survived\",\"Parch\",\"SibSp\",\"Pclass\",\"Age\",\"Sex\"]],\n",
    "             hue=\"Survived\", dropna=True)"
   ]
  },
  {
   "cell_type": "markdown",
   "metadata": {},
   "source": [
    "Some interesting findings can be seen from the pair plot.\n",
    "\n",
    "We can see that more people died than survived.\n",
    "\n",
    "We can see that there are more people without siblings, parents, children.\n",
    "\n",
    "We can see that age of passengers is close normally distribution."
   ]
  },
  {
   "cell_type": "markdown",
   "metadata": {},
   "source": [
    "After taking a look at the dataset and pairplot. Some interesting questions that can be answered through the analysis\n",
    "\n",
    "1. No of people survived.\n",
    "2. Gender ratio of those survived \n",
    "3. relationship between passenger class and survival.\n",
    "4. How does age effect the survival.\n",
    "5. Does having any siblings, Children, parents effect the survival."
   ]
  },
  {
   "cell_type": "markdown",
   "metadata": {},
   "source": [
    ">No of people Survived"
   ]
  },
  {
   "cell_type": "code",
   "execution_count": 5,
   "metadata": {
    "collapsed": true
   },
   "outputs": [],
   "source": [
    "#We can answer this question by adding the elements in column \"Survived\" \n",
    "\n",
    "No_of_people_survived = titanic.loc[:,'Survived']"
   ]
  },
  {
   "cell_type": "code",
   "execution_count": 6,
   "metadata": {},
   "outputs": [
    {
     "name": "stdout",
     "output_type": "stream",
     "text": [
      "No of People survived is 342 out of 891\n"
     ]
    }
   ],
   "source": [
    "# Using the built in function sum() to add all the elements. \n",
    "\n",
    "print (\"No of People survived is {} out of {}\".format(No_of_people_survived.sum(), len(titanic.index)))"
   ]
  },
  {
   "cell_type": "markdown",
   "metadata": {},
   "source": [
    "We can see that about __38%__ of people on board survived the tragic incident."
   ]
  },
  {
   "cell_type": "markdown",
   "metadata": {},
   "source": [
    ">Now lets see the gender ratio of people who have survived the disaster."
   ]
  },
  {
   "cell_type": "code",
   "execution_count": 7,
   "metadata": {
    "collapsed": true
   },
   "outputs": [],
   "source": [
    "# we can achieve this by grouping the data using the built in groupby function\n",
    "\n",
    "Gender_ratio = titanic.groupby('Sex')"
   ]
  },
  {
   "cell_type": "code",
   "execution_count": 8,
   "metadata": {},
   "outputs": [
    {
     "name": "stdout",
     "output_type": "stream",
     "text": [
      "Sex\n",
      "female    233\n",
      "male      109\n",
      "Name: Survived, dtype: int64\n"
     ]
    }
   ],
   "source": [
    "print (Gender_ratio.sum()['Survived'])"
   ]
  },
  {
   "cell_type": "code",
   "execution_count": 9,
   "metadata": {},
   "outputs": [
    {
     "name": "stdout",
     "output_type": "stream",
     "text": [
      "Populating the interactive namespace from numpy and matplotlib\n"
     ]
    },
    {
     "data": {
      "text/plain": [
       "<matplotlib.text.Text at 0x1acd7f36390>"
      ]
     },
     "execution_count": 9,
     "metadata": {},
     "output_type": "execute_result"
    },
    {
     "data": {
      "image/png": "[encoded data removed]",
      "text/plain": [
       "<matplotlib.figure.Figure at 0x1acd729e9e8>"
      ]
     },
     "metadata": {},
     "output_type": "display_data"
    }
   ],
   "source": [
    "# using this command to display graph in notebook.\n",
    "%pylab inline\n",
    "\n",
    "# setting style\n",
    "sns.set_style('whitegrid')\n",
    "# figure dimensions\n",
    "plt.figure(figsize=(3, 5))\n",
    "# plotting a bar plot using bar function from matplotlib\n",
    "\n",
    "objects = ('Females', 'Males')\n",
    "y_pos = np.arange(len(objects))\n",
    "performance = list(Gender_ratio.sum()['Survived'])\n",
    "color_theme = ['pink','blue']\n",
    "plt.bar(y_pos, performance, align='center', alpha=1,color=color_theme)\n",
    "plt.xticks(y_pos, objects)\n",
    "plt.ylabel('No of Survivals')\n",
    "plt.title('No of Passengers Survived Based on Sex')"
   ]
  },
  {
   "cell_type": "markdown",
   "metadata": {},
   "source": [
    "This answer's our second question\n",
    "\n",
    "Here we can see that out of __342__ that survived, __233__ are females while __109__ are males.\n",
    "\n",
    "But this does not mean that females have a greater chance of survival than males."
   ]
  },
  {
   "cell_type": "markdown",
   "metadata": {},
   "source": [
    ">I have an other question that might give more insight towards gender ratio of that survived.\n",
    "- __No of male, female passengers on board.__"
   ]
  },
  {
   "cell_type": "code",
   "execution_count": 10,
   "metadata": {},
   "outputs": [
    {
     "data": {
      "text/plain": [
       "male      577\n",
       "female    314\n",
       "Name: Sex, dtype: int64"
      ]
     },
     "execution_count": 10,
     "metadata": {},
     "output_type": "execute_result"
    }
   ],
   "source": [
    "# we can use another useful pandas function value_counts to see the no of specific values in our column or data frame.\n",
    "\n",
    "titanic['Sex'].value_counts()"
   ]
  },
  {
   "cell_type": "markdown",
   "metadata": {},
   "source": [
    "The results are pretty interesting here, we can see that there are more males than females on board but in case of survival more females have survived than males.\n",
    "\n",
    "which supports our statement that females have more chance of survival than males.\n",
    "But corelation does not mean causation so, we cannot be entirely sure."
   ]
  },
  {
   "cell_type": "markdown",
   "metadata": {},
   "source": [
    ">Now lets see the relationship between passenger class and survival."
   ]
  },
  {
   "cell_type": "code",
   "execution_count": 11,
   "metadata": {
    "collapsed": true
   },
   "outputs": [],
   "source": [
    "# Grouping data as per passenger class.\n",
    "\n",
    "P_class = titanic.groupby('Pclass')"
   ]
  },
  {
   "cell_type": "code",
   "execution_count": 12,
   "metadata": {},
   "outputs": [
    {
     "data": {
      "text/plain": [
       "array([136,  87, 119], dtype=int64)"
      ]
     },
     "execution_count": 12,
     "metadata": {},
     "output_type": "execute_result"
    }
   ],
   "source": [
    "# using the grouped data to calculate survival counts using sum() function and then converting the data into numpy array.\n",
    "\n",
    "Passenger_class_survived = np.array(P_class['Survived'].sum())\n",
    "Passenger_class_survived"
   ]
  },
  {
   "cell_type": "markdown",
   "metadata": {},
   "source": [
    "Here we can see that __136__ Upper class people have survived, __87__ Middle Class and __119__ Lower class.\n",
    "\n",
    "We might think that the Upper class people have more chance of survival compared to other two groups. In order to check that we\n",
    "will take a look at total no of people in each class."
   ]
  },
  {
   "cell_type": "code",
   "execution_count": 13,
   "metadata": {},
   "outputs": [
    {
     "data": {
      "text/plain": [
       "3    491\n",
       "1    216\n",
       "2    184\n",
       "Name: Pclass, dtype: int64"
      ]
     },
     "execution_count": 13,
     "metadata": {},
     "output_type": "execute_result"
    }
   ],
   "source": [
    "# using the numpy array and value_counts() function to extract data from passenger class and converting \n",
    "\n",
    "Passenger_class_counts =((titanic['Pclass'].value_counts()))\n",
    "Passenger_class_counts"
   ]
  },
  {
   "cell_type": "markdown",
   "metadata": {},
   "source": [
    "We can see that there are lot more Lower class people than Upper class. so, by taking the percentage of people survived from each class we can be sure."
   ]
  },
  {
   "cell_type": "code",
   "execution_count": 14,
   "metadata": {
    "collapsed": true
   },
   "outputs": [],
   "source": [
    "# Both the passenger class, survival counts in those classes are in numpy arrays so, we can perform vectorized operations.\n",
    "\n",
    "Passenger_class_counts_list = [216,184,491]\n",
    "passenger_class_survival_percent = list((Passenger_class_survived/np.array(Passenger_class_counts_list))*100)"
   ]
  },
  {
   "cell_type": "code",
   "execution_count": 15,
   "metadata": {},
   "outputs": [
    {
     "data": {
      "text/plain": [
       "[62.962962962962962, 47.282608695652172, 24.236252545824847]"
      ]
     },
     "execution_count": 15,
     "metadata": {},
     "output_type": "execute_result"
    }
   ],
   "source": [
    "# printing the percentage of passengers survived from each class\n",
    "passenger_class_survival_percent"
   ]
  },
  {
   "cell_type": "markdown",
   "metadata": {},
   "source": [
    "> UpperClass: __63%__, MiddleClass: __47%__, LowerClass: __24%__"
   ]
  },
  {
   "cell_type": "code",
   "execution_count": 16,
   "metadata": {},
   "outputs": [
    {
     "name": "stdout",
     "output_type": "stream",
     "text": [
      "Populating the interactive namespace from numpy and matplotlib\n"
     ]
    },
    {
     "data": {
      "text/plain": [
       "<matplotlib.text.Text at 0x1acd8433828>"
      ]
     },
     "execution_count": 16,
     "metadata": {},
     "output_type": "execute_result"
    },
    {
     "data": {
      "image/png": "[encoded data removed]",
      "text/plain": [
       "<matplotlib.figure.Figure at 0x1acd7e0fa58>"
      ]
     },
     "metadata": {},
     "output_type": "display_data"
    }
   ],
   "source": [
    "# using this command to display graph in notebook.\n",
    "%pylab inline\n",
    "\n",
    "# setting style\n",
    "sns.set_style('whitegrid')\n",
    "# figure dimensions\n",
    "plt.figure(figsize=(4, 8))\n",
    "# plotting a bar plot using bar function from matplotlib\n",
    "\n",
    "# range of values for x axis\n",
    "objects = ('Upper Class', 'Middle Class', 'Lower Class')\n",
    "y_pos = np.arange(len(objects))\n",
    "# setting color\n",
    "color_theme = ['salmon','darkgray','blue']\n",
    "\n",
    "# using the builtin bar fuction from matplot lib to produce a bar graph for percent of people survived from each class\n",
    "plt.bar(y_pos,passenger_class_survival_percent,color=color_theme)\n",
    "plt.xticks(y_pos, objects)\n",
    "plt.ylabel('Percentage of Survivals')\n",
    "plt.title('Titanic Passengers Survival Based on Passenger Class')\n"
   ]
  },
  {
   "cell_type": "markdown",
   "metadata": {
    "collapsed": true
   },
   "source": [
    "Looking at the plot and survival percentage we can see that __UpperClass__ passengers have a __higher chance__ of survival."
   ]
  },
  {
   "cell_type": "markdown",
   "metadata": {},
   "source": [
    "So far we have see that Upeer class people have higher chance of survival and females have higer chance of survival.\n",
    "\n",
    "Now lets see if you are a female and from upper class do you have more chance of survival?\n"
   ]
  },
  {
   "cell_type": "code",
   "execution_count": 17,
   "metadata": {},
   "outputs": [
    {
     "data": {
      "text/plain": [
       "Sex     Pclass  Survived\n",
       "female  1       1            91\n",
       "                0             3\n",
       "        2       1            70\n",
       "                0             6\n",
       "        3       0            72\n",
       "                1            72\n",
       "male    1       0            77\n",
       "                1            45\n",
       "        2       0            91\n",
       "                1            17\n",
       "        3       0           300\n",
       "                1            47\n",
       "Name: Survived, dtype: int64"
      ]
     },
     "execution_count": 17,
     "metadata": {},
     "output_type": "execute_result"
    }
   ],
   "source": [
    "titanic.groupby(['Sex','Pclass'])['Survived'].value_counts()"
   ]
  },
  {
   "cell_type": "markdown",
   "metadata": {},
   "source": [
    "Here we can see that females from upper class and middle class have lot higher chance of survival than that of lower class"
   ]
  },
  {
   "cell_type": "markdown",
   "metadata": {},
   "source": [
    "if we just count no of females survived from each class its pretty even but it greatly varies if we take the percentage."
   ]
  },
  {
   "cell_type": "markdown",
   "metadata": {},
   "source": [
    "__96%__ chance of survival for upper class female compared to __50%__ chance for lower class female passenger. "
   ]
  },
  {
   "cell_type": "markdown",
   "metadata": {},
   "source": [
    "Let's see the age group of people in each class.\n",
    "\n",
    "for that we need to first study the ages of people on board."
   ]
  },
  {
   "cell_type": "code",
   "execution_count": 18,
   "metadata": {},
   "outputs": [
    {
     "data": {
      "text/plain": [
       "0    22.0\n",
       "1    38.0\n",
       "2    26.0\n",
       "3    35.0\n",
       "4    35.0\n",
       "5     NaN\n",
       "6    54.0\n",
       "7     2.0\n",
       "8    27.0\n",
       "9    14.0\n",
       "Name: Age, dtype: float64"
      ]
     },
     "execution_count": 18,
     "metadata": {},
     "output_type": "execute_result"
    }
   ],
   "source": [
    "# using the head function and taking a look at various values in Age column.\n",
    "\n",
    "titanic.loc[:,'Age'].head(10)"
   ]
  },
  {
   "cell_type": "markdown",
   "metadata": {},
   "source": [
    "From the above data we are missing some of the values for the Age column.\n",
    "\n",
    "I will create a new dataset by removing those values.\n",
    "\n",
    "This step can be performed at the start but then I found no use for the age then. but now as I am interested in ages of the passenger so, I want to clean my dataset."
   ]
  },
  {
   "cell_type": "code",
   "execution_count": 19,
   "metadata": {
    "collapsed": true
   },
   "outputs": [],
   "source": [
    "# using the dropna function to remove all the nan values from the Age column and storing it into new variable\n",
    "\n",
    "titanic_droped_nan_age =  titanic.dropna(subset = [\"Age\"], how='any')"
   ]
  },
  {
   "cell_type": "code",
   "execution_count": 20,
   "metadata": {},
   "outputs": [
    {
     "data": {
      "text/html": [
       "<div>\n",
       "<style>\n",
       "    .dataframe thead tr:only-child th {\n",
       "        text-align: right;\n",
       "    }\n",
       "\n",
       "    .dataframe thead th {\n",
       "        text-align: left;\n",
       "    }\n",
       "\n",
       "    .dataframe tbody tr th {\n",
       "        vertical-align: top;\n",
       "    }\n",
       "</style>\n",
       "<table border=\"1\" class=\"dataframe\">\n",
       "  <thead>\n",
       "    <tr style=\"text-align: right;\">\n",
       "      <th></th>\n",
       "      <th>Age</th>\n",
       "    </tr>\n",
       "  </thead>\n",
       "  <tbody>\n",
       "    <tr>\n",
       "      <th>count</th>\n",
       "      <td>714.000000</td>\n",
       "    </tr>\n",
       "    <tr>\n",
       "      <th>mean</th>\n",
       "      <td>29.699118</td>\n",
       "    </tr>\n",
       "    <tr>\n",
       "      <th>std</th>\n",
       "      <td>14.526497</td>\n",
       "    </tr>\n",
       "    <tr>\n",
       "      <th>min</th>\n",
       "      <td>0.420000</td>\n",
       "    </tr>\n",
       "    <tr>\n",
       "      <th>25%</th>\n",
       "      <td>20.125000</td>\n",
       "    </tr>\n",
       "    <tr>\n",
       "      <th>50%</th>\n",
       "      <td>28.000000</td>\n",
       "    </tr>\n",
       "    <tr>\n",
       "      <th>75%</th>\n",
       "      <td>38.000000</td>\n",
       "    </tr>\n",
       "    <tr>\n",
       "      <th>max</th>\n",
       "      <td>80.000000</td>\n",
       "    </tr>\n",
       "  </tbody>\n",
       "</table>\n",
       "</div>"
      ],
      "text/plain": [
       "              Age\n",
       "count  714.000000\n",
       "mean    29.699118\n",
       "std     14.526497\n",
       "min      0.420000\n",
       "25%     20.125000\n",
       "50%     28.000000\n",
       "75%     38.000000\n",
       "max     80.000000"
      ]
     },
     "execution_count": 20,
     "metadata": {},
     "output_type": "execute_result"
    }
   ],
   "source": [
    "# using describe function to get overall statistics\n",
    "\n",
    "titanic_droped_nan_age[['Age']].describe()"
   ]
  },
  {
   "cell_type": "markdown",
   "metadata": {},
   "source": [
    "Now that we have seen the data I want to group the data into 4 Age groups __0 - 20, 21 - 28, 29 - 38 and 39 - 80.__ I have simply taken this according to quartiles as we have equal no of people in each catogery."
   ]
  },
  {
   "cell_type": "code",
   "execution_count": 21,
   "metadata": {
    "collapsed": true
   },
   "outputs": [],
   "source": [
    "Age_group_survival = {}\n",
    "def Age_group_range(Lower_bound, Upper_bound, Age_group_name):\n",
    "    '''\n",
    "    '''\n",
    "    dict_key = \"Ages: {} - {}\".format(Lower_bound,Upper_bound)\n",
    "    age_group = titanic_droped_nan_age[(titanic_droped_nan_age.loc[:,\"Age\"] >= Lower_bound) & (titanic_droped_nan_age.loc[:,\"Age\"] <Upper_bound)]   \n",
    "    Age_group_survival[dict_key] = age_group['Survived'].sum()\n",
    "    print (\"No of passengers survived for {} ({} - {}): {}\".format(Age_group_name, Lower_bound, Upper_bound, Age_group_survival[dict_key]))\n",
    "    print (\"{} Survival with respect to Passenger class\".format(Age_group_name))\n",
    "    print (age_group.groupby(\"Pclass\")['Survived'].sum())\n",
    "    print (\"No of Passengers in {}\".format(Age_group_name))\n",
    "    print (len(age_group.index))"
   ]
  },
  {
   "cell_type": "code",
   "execution_count": 22,
   "metadata": {
    "scrolled": true
   },
   "outputs": [
    {
     "name": "stdout",
     "output_type": "stream",
     "text": [
      "No of passengers survived for Age_group_1 (0 - 21): 82\n",
      "Age_group_1 Survival with respect to Passenger class\n",
      "Pclass\n",
      "1    17\n",
      "2    26\n",
      "3    39\n",
      "Name: Survived, dtype: int64\n",
      "No of Passengers in Age_group_1\n",
      "180\n"
     ]
    }
   ],
   "source": [
    "# Creating different Age Groups using the fuction\n",
    "Age_group_range(0, 21, \"Age_group_1\")"
   ]
  },
  {
   "cell_type": "code",
   "execution_count": 23,
   "metadata": {
    "scrolled": true
   },
   "outputs": [
    {
     "name": "stdout",
     "output_type": "stream",
     "text": [
      "No of passengers survived for Age_group_2 (21 - 29): 66\n",
      "Age_group_2 Survival with respect to Passenger class\n",
      "Pclass\n",
      "1    23\n",
      "2    19\n",
      "3    24\n",
      "Name: Survived, dtype: int64\n",
      "No of Passengers in Age_group_2\n",
      "184\n"
     ]
    }
   ],
   "source": [
    "Age_group_range(21,29,\"Age_group_2\")"
   ]
  },
  {
   "cell_type": "code",
   "execution_count": 24,
   "metadata": {},
   "outputs": [
    {
     "name": "stdout",
     "output_type": "stream",
     "text": [
      "No of passengers survived for Age_group_3 (29 - 39): 76\n",
      "Age_group_3 Survival with respect to Passenger class\n",
      "Pclass\n",
      "1    36\n",
      "2    22\n",
      "3    18\n",
      "Name: Survived, dtype: int64\n",
      "No of Passengers in Age_group_3\n",
      "173\n"
     ]
    }
   ],
   "source": [
    "Age_group_range(29,39,\"Age_group_3\")"
   ]
  },
  {
   "cell_type": "code",
   "execution_count": 25,
   "metadata": {},
   "outputs": [
    {
     "name": "stdout",
     "output_type": "stream",
     "text": [
      "No of passengers survived for Age_group_4 (39 - 81): 66\n",
      "Age_group_4 Survival with respect to Passenger class\n",
      "Pclass\n",
      "1    46\n",
      "2    16\n",
      "3     4\n",
      "Name: Survived, dtype: int64\n",
      "No of Passengers in Age_group_4\n",
      "177\n"
     ]
    }
   ],
   "source": [
    "Age_group_range(39,81,\"Age_group_4\")"
   ]
  },
  {
   "cell_type": "code",
   "execution_count": 26,
   "metadata": {},
   "outputs": [
    {
     "name": "stdout",
     "output_type": "stream",
     "text": [
      "No of passengers survived for Age_group_5 (60 - 81): 7\n",
      "Age_group_5 Survival with respect to Passenger class\n",
      "Pclass\n",
      "1    5\n",
      "2    1\n",
      "3    1\n",
      "Name: Survived, dtype: int64\n",
      "No of Passengers in Age_group_5\n",
      "26\n"
     ]
    }
   ],
   "source": [
    "Age_group_range(60,81,\"Age_group_5\")"
   ]
  },
  {
   "cell_type": "code",
   "execution_count": 27,
   "metadata": {},
   "outputs": [
    {
     "name": "stdout",
     "output_type": "stream",
     "text": [
      "No of passengers survived for Age_group_6 (70 - 81): 1\n",
      "Age_group_6 Survival with respect to Passenger class\n",
      "Pclass\n",
      "1    1\n",
      "2    0\n",
      "3    0\n",
      "Name: Survived, dtype: int64\n",
      "No of Passengers in Age_group_6\n",
      "7\n"
     ]
    }
   ],
   "source": [
    "Age_group_range(70,81,\"Age_group_6\")"
   ]
  },
  {
   "cell_type": "code",
   "execution_count": 28,
   "metadata": {},
   "outputs": [
    {
     "data": {
      "text/plain": [
       "{'Ages: 0 - 21': 82,\n",
       " 'Ages: 21 - 29': 66,\n",
       " 'Ages: 29 - 39': 76,\n",
       " 'Ages: 39 - 81': 66,\n",
       " 'Ages: 60 - 81': 7,\n",
       " 'Ages: 70 - 81': 1}"
      ]
     },
     "execution_count": 28,
     "metadata": {},
     "output_type": "execute_result"
    }
   ],
   "source": [
    "# Printing dictionary to look at No of survivals for different age groups\n",
    "Age_group_survival"
   ]
  },
  {
   "cell_type": "markdown",
   "metadata": {},
   "source": [
    "We can see the no of survivals in each age group!"
   ]
  },
  {
   "cell_type": "markdown",
   "metadata": {},
   "source": [
    "> __How does Ages and Fare relate to each other__"
   ]
  },
  {
   "cell_type": "code",
   "execution_count": 29,
   "metadata": {},
   "outputs": [
    {
     "data": {
      "text/plain": [
       "<matplotlib.text.Text at 0x1acd84d87b8>"
      ]
     },
     "execution_count": 29,
     "metadata": {},
     "output_type": "execute_result"
    },
    {
     "data": {
      "image/png": "[encoded data removed]",
      "text/plain": [
       "<matplotlib.figure.Figure at 0x1acd7e5cd68>"
      ]
     },
     "metadata": {},
     "output_type": "display_data"
    }
   ],
   "source": [
    "# for this I will make a scatter plot on Index (AGE AND FARE)\n",
    "\n",
    "\n",
    "# setting style\n",
    "sns.set_style('whitegrid')\n",
    "# figure dimensions\n",
    "plt.figure(figsize=(12, 6))\n",
    "# plotting a Scatter plot using bar function from matplotlib\n",
    "\n",
    "plt.scatter(titanic_droped_nan_age['Age'], titanic_droped_nan_age['Fare'], color = ['purple'])\n",
    "plt.xlabel('Age')\n",
    "plt.ylabel('Fare price in dollars')\n",
    "plt.title('Scatter Plot on AGE vs Fare')\n"
   ]
  },
  {
   "cell_type": "markdown",
   "metadata": {},
   "source": [
    "From the above plot we dont see much relationship between age of the passenger and fare of the passenger.\n",
    "\n",
    "most of them seem to pay equal fare regard less the age. "
   ]
  },
  {
   "cell_type": "markdown",
   "metadata": {},
   "source": [
    "> __Does having siblings effect Survival__"
   ]
  },
  {
   "cell_type": "code",
   "execution_count": 30,
   "metadata": {},
   "outputs": [
    {
     "data": {
      "text/plain": [
       "SibSp\n",
       "0    210\n",
       "1    112\n",
       "2     13\n",
       "3      4\n",
       "4      3\n",
       "5      0\n",
       "8      0\n",
       "Name: Survived, dtype: int64"
      ]
     },
     "execution_count": 30,
     "metadata": {},
     "output_type": "execute_result"
    }
   ],
   "source": [
    "# using groupby and pandas plot function to group data by SibSp and then summing up the Survived column and plotting it. \n",
    "\n",
    "siblings_survived = titanic.groupby(\"SibSp\")['Survived'].sum()\n",
    "siblings_survived"
   ]
  },
  {
   "cell_type": "code",
   "execution_count": 31,
   "metadata": {},
   "outputs": [
    {
     "data": {
      "text/plain": [
       "SibSp  Survived\n",
       "0      0           398\n",
       "       1           210\n",
       "1      1           112\n",
       "       0            97\n",
       "2      0            15\n",
       "       1            13\n",
       "3      0            12\n",
       "       1             4\n",
       "4      0            15\n",
       "       1             3\n",
       "5      0             5\n",
       "8      0             7\n",
       "Name: Survived, dtype: int64"
      ]
     },
     "execution_count": 31,
     "metadata": {},
     "output_type": "execute_result"
    }
   ],
   "source": [
    "titanic.groupby(\"SibSp\")['Survived'].value_counts()"
   ]
  },
  {
   "cell_type": "markdown",
   "metadata": {},
   "source": [
    "Here we can see that for the most part there is more chance of survival without any siblings/spouse"
   ]
  },
  {
   "cell_type": "code",
   "execution_count": 32,
   "metadata": {},
   "outputs": [
    {
     "data": {
      "text/plain": [
       "Parch\n",
       "0    233\n",
       "1     65\n",
       "2     40\n",
       "3      3\n",
       "4      0\n",
       "5      1\n",
       "6      0\n",
       "Name: Survived, dtype: int64"
      ]
     },
     "execution_count": 32,
     "metadata": {},
     "output_type": "execute_result"
    }
   ],
   "source": [
    "# Grouping data by Parch column\n",
    "\n",
    "parents_survived = titanic.groupby(\"Parch\")['Survived'].sum()\n",
    "parents_survived"
   ]
  },
  {
   "cell_type": "code",
   "execution_count": 34,
   "metadata": {},
   "outputs": [
    {
     "data": {
      "text/plain": [
       "Parch  Survived\n",
       "0      0           445\n",
       "       1           233\n",
       "1      1            65\n",
       "       0            53\n",
       "2      0            40\n",
       "       1            40\n",
       "3      1             3\n",
       "       0             2\n",
       "4      0             4\n",
       "5      0             4\n",
       "       1             1\n",
       "6      0             1\n",
       "Name: Survived, dtype: int64"
      ]
     },
     "execution_count": 34,
     "metadata": {},
     "output_type": "execute_result"
    }
   ],
   "source": [
    "titanic.groupby(\"Parch\")['Survived'].value_counts()"
   ]
  },
  {
   "cell_type": "markdown",
   "metadata": {},
   "source": [
    "Here interestingly we can see that there is higher chance of survival for passengers with 1 or more children."
   ]
  },
  {
   "cell_type": "code",
   "execution_count": 33,
   "metadata": {},
   "outputs": [
    {
     "data": {
      "text/plain": [
       "Parch  SibSp\n",
       "0      0        163\n",
       "       1         64\n",
       "       2          4\n",
       "       3          2\n",
       "1      0         25\n",
       "       1         34\n",
       "       2          6\n",
       "       3          0\n",
       "       4          0\n",
       "2      0         21\n",
       "       1         12\n",
       "       2          2\n",
       "       3          2\n",
       "       4          3\n",
       "       5          0\n",
       "       8          0\n",
       "3      0          1\n",
       "       1          1\n",
       "       2          1\n",
       "4      0          0\n",
       "       1          0\n",
       "5      0          0\n",
       "       1          1\n",
       "6      1          0\n",
       "Name: Survived, dtype: int64"
      ]
     },
     "execution_count": 33,
     "metadata": {},
     "output_type": "execute_result"
    }
   ],
   "source": [
    "# grouping data by both Parch and SibSp columns.\n",
    "\n",
    "siblings_parents_survival = titanic.groupby([\"Parch\",\"SibSp\"])['Survived'].sum()\n",
    "siblings_parents_survival"
   ]
  },
  {
   "cell_type": "code",
   "execution_count": 37,
   "metadata": {},
   "outputs": [
    {
     "data": {
      "text/plain": [
       "Parch  SibSp  Survived\n",
       "0      0      0           374\n",
       "              1           163\n",
       "       1      1            64\n",
       "              0            59\n",
       "       2      0            12\n",
       "              1             4\n",
       "       3      1             2\n",
       "1      0      1            25\n",
       "              0            13\n",
       "       1      1            34\n",
       "              0            23\n",
       "       2      1             6\n",
       "              0             1\n",
       "       3      0             7\n",
       "       4      0             9\n",
       "2      0      1            21\n",
       "              0             8\n",
       "       1      1            12\n",
       "              0             7\n",
       "       2      0             2\n",
       "              1             2\n",
       "       3      0             5\n",
       "              1             2\n",
       "       4      0             6\n",
       "              1             3\n",
       "       5      0             5\n",
       "       8      0             7\n",
       "3      0      1             1\n",
       "       1      0             2\n",
       "              1             1\n",
       "       2      1             1\n",
       "4      0      0             1\n",
       "       1      0             3\n",
       "5      0      0             2\n",
       "       1      0             2\n",
       "              1             1\n",
       "6      1      0             1\n",
       "Name: Survived, dtype: int64"
      ]
     },
     "execution_count": 37,
     "metadata": {},
     "output_type": "execute_result"
    }
   ],
   "source": [
    "# this given the information on Passengers with siblings, parents there survival\n",
    "\n",
    "titanic.groupby([\"Parch\",\"SibSp\"])['Survived'].value_counts()"
   ]
  },
  {
   "cell_type": "markdown",
   "metadata": {},
   "source": [
    "The relationship with siblings and parents is tricky one we have more survivals with 0 sibiling, parents but we also lot more people with 0 sibilings/parents."
   ]
  },
  {
   "cell_type": "markdown",
   "metadata": {},
   "source": [
    "Here also we can see the same trend when combining those two variables and seeing the relationship with Survival. "
   ]
  },
  {
   "cell_type": "markdown",
   "metadata": {},
   "source": [
    "## Taking a Look back at the questions\n",
    "\n",
    "#### __No of people survived?__\n",
    "\n",
    "342 passengers have survived this tragic incident out of 892. in total that's 38% survival.\n",
    "    \n",
    "#### __Gender ratio of those survived?__\n",
    "\n",
    "There are in total 577 males and 314 females on board. \n",
    "Out of 342 survivals 233 where females and 109 where males. That means 18% of males on board have survived, 74% of females on board have survived. \n",
    "    \n",
    "With this it is possible that females have greater chance of survival than males. or it might be because females were evacuated first from the ship.\n",
    "    \n",
    "#### __Relationship between passenger class and survival.__\n",
    "\n",
    "No of passengers on Board for each class\n",
    "[upperClass : 216, MiddleClass: 184, LowerClass: 491]\n",
    "No of passengers Survived for each class\n",
    "[upperClass : 136, MiddleClass: 87, LowerClass: 119]\n",
    "Percentage of survival/total in each class\n",
    "[upperClass: 63,, MiddleClass: 47, LowerClass: 24]\n",
    "\n",
    "\n",
    "from the results we can see that Upper class people have survived more than Lower even when there were more lower class people on board. This might be due to priority given during evacuation.\n",
    "    \n",
    "#### __How does age effect the survival.__\n",
    "\n",
    "For this i first looked at quartiles for Age in the dataFrame and then calculated the no of survival.\n",
    "By taking quartiles each age group is equally divided .\n",
    "{'Ages: 0 - 20': 82,\n",
    " 'Ages: 21 - 28': 66,\n",
    " 'Ages: 29 - 38': 76,\n",
    " 'Ages: 39 - 80': 66,\n",
    " 'Ages: 60 - 80': 7,\n",
    " 'Ages: 70 - 80': 1}\n",
    "\n",
    "By looking at the results Age doesnot have much effect on survival. but here the Age group 1 and 4 have a wider spread that means there are fewer passengers in those age groups. Which is mainly prominent with age group 4.\n",
    "So, I have checked the no of survival for ages 60 - 80 and found it to be 7 with total 26. thats 26% chance.\n",
    "Further checking it for ages 70 - 80. only 1 passenger survived out of 7 that's 14% chance.\n",
    "        \n",
    "#### __Does having any siblings, Children, parents effect the survival.__\n",
    "\n",
    "we can see that have siblings does not have much effect on survival. But in case of having a single parent/children the chance of survival is higher than other cases. and it is alos higher for passenger with 1 sibiling/spouse and 1 parent/children.\n",
    "\n",
    "#### Conclusion\n",
    "\n",
    "This dataset can further be studied to find more interesting facts and relations about the disaster. \n",
    "\n",
    "When answering some of the above question we have seen that females have more chance of survival and upper class people have more chance of survival. and we have also seen that Upper class female passengers have lot more chance of survival. these assumptions can be made certain if we have data on evacuation of passengers. That is did they evacuate females first. was priority given to upper class people during evacuation. data on location of rooms can help in seeing if people who stayed in top floor had more chance of survival. Were lower class people assigned rooms in the bottom part of ship which might take more to travel to top floor when evacuating.\n",
    "\n",
    "What side of ship started evacuating first or did they evacuate from all sides these are some interesting that can be answered with more data.\n",
    "\n",
    "Were passenger with children are given more priority?"
   ]
  },
  {
   "cell_type": "markdown",
   "metadata": {},
   "source": [
    "This dataset can further be studied to find more interesting facts and relationship about the disaster."
   ]
  },
  {
   "cell_type": "markdown",
   "metadata": {},
   "source": [
    "__Reference__\n",
    "\n",
    "- https://stackoverflow.com/\n",
    "- https://pandas.pydata.org/pandas-docs/stable/generated/pandas.DataFrame.html\n",
    "- https://matplotlib.org/users/pyplot_tutorial.html"
   ]
  }
 ],
 "metadata": {
  "kernelspec": {
   "display_name": "Python 3",
   "language": "python",
   "name": "python3"
  },
  "language_info": {
   "codemirror_mode": {
    "name": "ipython",
    "version": 3
   },
   "file_extension": ".py",
   "mimetype": "text/x-python",
   "name": "python",
   "nbconvert_exporter": "python",
   "pygments_lexer": "ipython3",
   "version": "3.6.1"
  }
 },
 "nbformat": 4,
 "nbformat_minor": 2
}
